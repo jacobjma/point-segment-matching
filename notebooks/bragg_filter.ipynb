{
 "cells": [
  {
   "cell_type": "markdown",
   "metadata": {},
   "source": [
    "The Bragg filter requires that we mask everything that is not a major diffraction peak. The `BraggFilter` object includes a method for automatically finding the diffraction peaks automatically. The diffraction peaks can also be set manually."
   ]
  },
  {
   "cell_type": "code",
   "execution_count": null,
   "metadata": {},
   "outputs": [],
   "source": [
    "bragg.register_diffraction_peaks(alpha=.1, min_sigma=5, max_sigma=15, progress_bar=True)"
   ]
  },
  {
   "cell_type": "markdown",
   "metadata": {},
   "source": [
    "With the diffraction peaks found we can set the mask centers automatically, choosing to include all peaks up to some distance in terms of the miller index norm."
   ]
  },
  {
   "cell_type": "code",
   "execution_count": null,
   "metadata": {},
   "outputs": [],
   "source": [
    "bragg.autoset_mask_centers(max_norm=2.5)\n",
    "\n",
    "fig,ax=plt.subplots(1,1,figsize=(figsize/2,figsize/2))\n",
    "bragg.show_mask_centers(ax=ax, scale=.1, s=300);"
   ]
  }
 ],
 "metadata": {
  "anaconda-cloud": {},
  "kernelspec": {
   "display_name": "Python [conda env:tensorflow-1.6]",
   "language": "python",
   "name": "conda-env-tensorflow-1.6-py"
  },
  "language_info": {
   "codemirror_mode": {
    "name": "ipython",
    "version": 3
   },
   "file_extension": ".py",
   "mimetype": "text/x-python",
   "name": "python",
   "nbconvert_exporter": "python",
   "pygments_lexer": "ipython3",
   "version": "3.5.5"
  }
 },
 "nbformat": 4,
 "nbformat_minor": 2
}
